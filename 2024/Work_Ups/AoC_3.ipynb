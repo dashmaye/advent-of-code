{
 "cells": [
  {
   "cell_type": "code",
   "execution_count": 2,
   "id": "9929bc74-cb18-4a87-891d-236161479416",
   "metadata": {},
   "outputs": [],
   "source": [
    "import pandas as pd\n",
    "import numpy as np\n",
    "import re\n",
    "\n",
    "pattern = r\"mul\\(\\d+,\\d+\\)\"\n",
    "\n",
    "matches = []\n",
    "\n",
    "with open('AoC_3_Input.txt', 'r') as file:\n",
    "    for line in file:\n",
    "        matches.extend(re.findall(pattern, line))\n",
    "\n",
    "# for i, match in enumerate(matches):\n",
    "#     print(f\"arr[{i}] = {match}\")"
   ]
  },
  {
   "cell_type": "code",
   "execution_count": 60,
   "id": "ba39a842-2566-4346-a459-8e559d4d29f6",
   "metadata": {},
   "outputs": [
    {
     "name": "stdout",
     "output_type": "stream",
     "text": [
      "mul(402,190)\n"
     ]
    },
    {
     "data": {
      "text/plain": [
       "str"
      ]
     },
     "execution_count": 60,
     "metadata": {},
     "output_type": "execute_result"
    }
   ],
   "source": [
    "print(matches[0])\n",
    "type(matches[0])"
   ]
  },
  {
   "cell_type": "code",
   "execution_count": 15,
   "id": "04d08484-e18b-41e9-b8db-56a50ec7d1d6",
   "metadata": {},
   "outputs": [
    {
     "name": "stdout",
     "output_type": "stream",
     "text": [
      "5,10\n",
      "<class 'str'>\n"
     ]
    }
   ],
   "source": [
    "# pair = r\"\\d+,\\d+\"\n",
    "pair = \"5,10\"\n",
    "\n",
    "print(pair)\n",
    "print(type(pair))"
   ]
  },
  {
   "cell_type": "code",
   "execution_count": 16,
   "id": "509f50d5-3098-4bc0-baee-f9d566786805",
   "metadata": {},
   "outputs": [
    {
     "name": "stdout",
     "output_type": "stream",
     "text": [
      "['5', '10']\n",
      "<class 'list'>\n"
     ]
    }
   ],
   "source": [
    "# tuple = \"(\" + pair.split(\",\") + \")\"\n",
    "split = pair.split(\",\")\n",
    "print(split)\n",
    "print(type(split))"
   ]
  },
  {
   "cell_type": "code",
   "execution_count": 17,
   "id": "31ed0844-6a12-428a-b1a8-7f190e24f396",
   "metadata": {},
   "outputs": [
    {
     "name": "stdout",
     "output_type": "stream",
     "text": [
      "5\n"
     ]
    }
   ],
   "source": [
    "print(split[0])"
   ]
  },
  {
   "cell_type": "code",
   "execution_count": 61,
   "id": "dfe78d00-0738-4b90-9264-4c9a3de899e0",
   "metadata": {},
   "outputs": [],
   "source": [
    "num = r\"\\d+\"\n",
    "num_list = []\n",
    "for match in matches:\n",
    "    num_list.extend(re.findall(num, match))"
   ]
  },
  {
   "cell_type": "code",
   "execution_count": 62,
   "id": "e8b6d600-1ea0-4770-9fda-aed567b8e947",
   "metadata": {},
   "outputs": [
    {
     "name": "stdout",
     "output_type": "stream",
     "text": [
      "1498\n"
     ]
    },
    {
     "data": {
      "text/plain": [
       "str"
      ]
     },
     "execution_count": 62,
     "metadata": {},
     "output_type": "execute_result"
    }
   ],
   "source": [
    "print(len(num_list))\n",
    "type(num_list[0])"
   ]
  },
  {
   "cell_type": "code",
   "execution_count": 69,
   "id": "e92429c8-2e8f-45f4-9c4c-a8a8a8b73f52",
   "metadata": {},
   "outputs": [
    {
     "name": "stdout",
     "output_type": "stream",
     "text": [
      "[ 5 10]\n"
     ]
    }
   ],
   "source": [
    "arr = np.empty((2, 0), dtype=int)\n",
    "x = 5\n",
    "y = 10\n",
    "arr = np.append(x, y)\n",
    "print(arr)"
   ]
  },
  {
   "cell_type": "code",
   "execution_count": 70,
   "id": "d4011b4e-9bf5-4406-b5d1-312d26e85f9d",
   "metadata": {},
   "outputs": [
    {
     "name": "stdout",
     "output_type": "stream",
     "text": [
      "5\n"
     ]
    }
   ],
   "source": [
    "print(arr[0])"
   ]
  },
  {
   "cell_type": "code",
   "execution_count": 71,
   "id": "d103b6f0-ad3b-4f9a-b243-11a8dc725033",
   "metadata": {},
   "outputs": [
    {
     "name": "stdout",
     "output_type": "stream",
     "text": [
      "10\n"
     ]
    }
   ],
   "source": [
    "print(arr[1])"
   ]
  },
  {
   "cell_type": "code",
   "execution_count": null,
   "id": "403e0777-2c89-41bd-b709-7b26127447a2",
   "metadata": {},
   "outputs": [],
   "source": []
  }
 ],
 "metadata": {
  "kernelspec": {
   "display_name": "Python 3 (ipykernel)",
   "language": "python",
   "name": "python3"
  },
  "language_info": {
   "codemirror_mode": {
    "name": "ipython",
    "version": 3
   },
   "file_extension": ".py",
   "mimetype": "text/x-python",
   "name": "python",
   "nbconvert_exporter": "python",
   "pygments_lexer": "ipython3",
   "version": "3.11.5"
  }
 },
 "nbformat": 4,
 "nbformat_minor": 5
}
