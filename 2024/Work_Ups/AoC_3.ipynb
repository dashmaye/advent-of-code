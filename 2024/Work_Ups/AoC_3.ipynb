{
 "cells": [
  {
   "cell_type": "markdown",
   "id": "f2ecec72",
   "metadata": {},
   "source": [
    "## https://adventofcode.com/2024/day/3"
   ]
  },
  {
   "cell_type": "code",
   "execution_count": 5,
   "id": "9929bc74-cb18-4a87-891d-236161479416",
   "metadata": {},
   "outputs": [],
   "source": [
    "import pandas as pd\n",
    "import numpy as np\n",
    "import re\n",
    "\n",
    "pattern = r\"mul\\((\\d+),(\\d+)\\)\"\n",
    "\n",
    "matches = []\n",
    "\n",
    "with open('../Data_Inputs/AoC_3_input.txt', 'r') as file:\n",
    "    for line in file:\n",
    "        # matches.extend(re.findall(pattern, line))\n",
    "        matches.extend(re.findall(pattern, line))\n",
    "\n",
    "# for i, match in enumerate(matches):\n",
    "#     print(f\"arr[{i}] = {match}\")"
   ]
  },
  {
   "cell_type": "code",
   "execution_count": 6,
   "id": "ba39a842-2566-4346-a459-8e559d4d29f6",
   "metadata": {},
   "outputs": [
    {
     "name": "stdout",
     "output_type": "stream",
     "text": [
      "('402', '190')\n"
     ]
    },
    {
     "data": {
      "text/plain": [
       "tuple"
      ]
     },
     "execution_count": 6,
     "metadata": {},
     "output_type": "execute_result"
    }
   ],
   "source": [
    "print(matches[0])\n",
    "type(matches[0])"
   ]
  },
  {
   "cell_type": "code",
   "execution_count": 15,
   "id": "e066cca2",
   "metadata": {},
   "outputs": [
    {
     "name": "stdout",
     "output_type": "stream",
     "text": [
      "190\n"
     ]
    },
    {
     "data": {
      "text/plain": [
       "str"
      ]
     },
     "execution_count": 15,
     "metadata": {},
     "output_type": "execute_result"
    }
   ],
   "source": [
    "print(matches[0][1])\n",
    "type(matches[0][0])"
   ]
  },
  {
   "cell_type": "code",
   "execution_count": 16,
   "id": "8d4791f0",
   "metadata": {},
   "outputs": [],
   "source": [
    "sum = 0\n",
    "for x, y in matches:\n",
    "    sum += (int(x) * int(y))"
   ]
  },
  {
   "cell_type": "code",
   "execution_count": 17,
   "id": "1f69f611",
   "metadata": {},
   "outputs": [
    {
     "name": "stdout",
     "output_type": "stream",
     "text": [
      "183788984\n"
     ]
    }
   ],
   "source": [
    "print(sum)"
   ]
  },
  {
   "cell_type": "code",
   "execution_count": null,
   "id": "57c2c1d8",
   "metadata": {},
   "outputs": [
    {
     "name": "stdout",
     "output_type": "stream",
     "text": [
      "126\n",
      "130\n"
     ]
    }
   ],
   "source": [
    "pattern = re.compile(\"do\\(\\)\")\n",
    "\n",
    "enabled = []\n",
    "with open('../Data_Inputs/AoC_3_input.txt', 'r') as file:\n",
    "    for line in file:\n",
    "        # print(line)\n",
    "        m = pattern.search(line)\n",
    "        print(m.start())\n",
    "        print(m.end())\n",
    "        # print(m)\n"
   ]
  },
  {
   "cell_type": "code",
   "execution_count": 25,
   "id": "082eeea7",
   "metadata": {},
   "outputs": [
    {
     "name": "stdout",
     "output_type": "stream",
     "text": [
      "126\n"
     ]
    }
   ],
   "source": [
    "print(m.start())"
   ]
  },
  {
   "cell_type": "code",
   "execution_count": null,
   "id": "0cab92b4",
   "metadata": {},
   "outputs": [],
   "source": []
  }
 ],
 "metadata": {
  "kernelspec": {
   "display_name": "base",
   "language": "python",
   "name": "python3"
  },
  "language_info": {
   "codemirror_mode": {
    "name": "ipython",
    "version": 3
   },
   "file_extension": ".py",
   "mimetype": "text/x-python",
   "name": "python",
   "nbconvert_exporter": "python",
   "pygments_lexer": "ipython3",
   "version": "3.10.15"
  }
 },
 "nbformat": 4,
 "nbformat_minor": 5
}
