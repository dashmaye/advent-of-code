{
 "cells": [
  {
   "cell_type": "markdown",
   "id": "f4bbf8bf-9aba-4ec8-91d4-d176be3cf67d",
   "metadata": {},
   "source": [
    "## https://adventofcode.com/2024/day/1"
   ]
  },
  {
   "cell_type": "code",
   "execution_count": null,
   "id": "dccb9481-5fae-4c19-bd3b-6bbdbacb4e41",
   "metadata": {},
   "outputs": [],
   "source": [
    "import pandas as pd\n",
    "import numpy as np\n",
    "\n",
    "df = pd.read_excel('AoC_1.xlsx', header=None, sheet_name='CleanData')\n",
    "\n",
    "location_one = np.sort(df[0].to_numpy())\n",
    "location_two = np.sort(df[1].to_numpy())"
   ]
  },
  {
   "cell_type": "code",
   "execution_count": null,
   "id": "58d3598d-c001-460e-add8-8c51dd481ed3",
   "metadata": {},
   "outputs": [],
   "source": [
    "distance = 0\n",
    "for loc in range(location_one.size):\n",
    "    distance += abs(location_one[loc] - location_two[loc])\n",
    "\n",
    "print(distance)"
   ]
  },
  {
   "cell_type": "code",
   "execution_count": null,
   "id": "c7728791-e4f3-4768-9488-ac8cc05d39ad",
   "metadata": {},
   "outputs": [],
   "source": [
    "i = 0\n",
    "for i in range(6):\n",
    "    print(\"A\", location_one[i])\n",
    "    print(\"B\", location_two[i])"
   ]
  },
  {
   "cell_type": "code",
   "execution_count": null,
   "id": "fc15718d-3d8c-4480-b6d4-b3c9cf0a8965",
   "metadata": {},
   "outputs": [],
   "source": [
    "similarity = 0\n",
    "for loc_a in range(location_one.size):\n",
    "    occurence = 0\n",
    "    for loca_b in range(location_one.size):\n",
    "        if location_one[loc_a] == location_two[loca_b]:\n",
    "            occurence += 1\n",
    "    temp = location_one[loc_a] * occurence\n",
    "    similarity += temp\n",
    "\n",
    "print(similarity)"
   ]
  },
  {
   "cell_type": "code",
   "execution_count": null,
   "id": "40932b9a-64d4-4760-8cd4-219ec1af1349",
   "metadata": {},
   "outputs": [],
   "source": []
  }
 ],
 "metadata": {
  "kernelspec": {
   "display_name": "Python 3 (ipykernel)",
   "language": "python",
   "name": "python3"
  },
  "language_info": {
   "codemirror_mode": {
    "name": "ipython",
    "version": 3
   },
   "file_extension": ".py",
   "mimetype": "text/x-python",
   "name": "python",
   "nbconvert_exporter": "python",
   "pygments_lexer": "ipython3",
   "version": "3.10.15"
  }
 },
 "nbformat": 4,
 "nbformat_minor": 5
}
